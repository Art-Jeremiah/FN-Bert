{
 "cells": [
  {
   "cell_type": "code",
   "execution_count": 17,
   "metadata": {
    "tags": []
   },
   "outputs": [],
   "source": [
    "import json\n",
    "import os"
   ]
  },
  {
   "cell_type": "code",
   "execution_count": 18,
   "metadata": {
    "collapsed": false,
    "jupyter": {
     "outputs_hidden": false
    }
   },
   "outputs": [],
   "source": [
    "# with open(\"./medical_ner_entities.json\", \"r\") as f:\n",
    "#     data_all = json.load(f)\n",
    "#     for i in range(len(data_all)):\n",
    "#         print(data_all[i]['id'])"
   ]
  },
  {
   "cell_type": "code",
   "execution_count": 19,
   "metadata": {
    "collapsed": false,
    "jupyter": {
     "outputs_hidden": false
    }
   },
   "outputs": [],
   "source": [
    "data_final = data_all[1500:]\n",
    "with open('./data/raw_data/final.json', 'w', encoding='utf-8') as f:\n",
    "    json.dump(data_final, f, ensure_ascii=False, indent=2)"
   ]
  },
  {
   "cell_type": "code",
   "execution_count": 20,
   "metadata": {
    "collapsed": false,
    "jupyter": {
     "outputs_hidden": false
    }
   },
   "outputs": [],
   "source": [
    "zh_en_dict = {\"药品\":\"DRUG\",\"药物成分\":\"DRUG_INGREDIENT\",\"疾病\":\"DISEASE\",\"症状\":\"SYMPTOM\",\"证候\":\"SYNDROME\",\"疾病分组\":\"DISEASE_GROUP\",\"食物\":\"FOOD\",\"食物分组\":\"FOOD_GROUP\",\"人群\":\"PERSON_GROUP\",\"药品分组\":\"DRUG_GROUP\",\"药物剂型\":\"DRUG_DOSAGE\",\"药物性味\":\"DRUG_TASTE\",\"中药功效\":\"DRUG_EFFICACY\"}"
   ]
  },
  {
   "cell_type": "code",
   "execution_count": 21,
   "metadata": {
    "collapsed": false,
    "jupyter": {
     "outputs_hidden": false
    }
   },
   "outputs": [],
   "source": [
    "stack_examples = []\n",
    "\n",
    "for i in range(len(data_final)):\n",
    "    labels = []\n",
    "    candidate_entities = []\n",
    "\n",
    "    for j in range(len(data_final[i]['annotations'])):\n",
    "        if data_final[i]['annotations'][j]['label'] in zh_en_dict.keys():\n",
    "            labels.append([f\"T{j}\",\n",
    "                            zh_en_dict[data_final[i]['annotations'][j]['label']],\n",
    "                           data_final[i]['annotations'][j]['start_offset'],\n",
    "                           data_final[i]['annotations'][j]['end_offset'],\n",
    "                           data_final[i]['annotations'][j]['entity']])\n",
    "            candidate_entities.append(data_final[i]['annotations'][j]['entity'])\n",
    "\n",
    "\n",
    "    stack_examples.append({'id': data_final[i]['id'],\n",
    "                               'text': data_final[i]['text'],\n",
    "                               'labels': labels,\n",
    "                               'pseudo': 0,\n",
    "                               'candidate_entities': candidate_entities})\n",
    "\n",
    "with open('./data/raw_data/final_to_use.json', 'w', encoding='utf-8') as f:\n",
    "    json.dump(stack_examples, f, ensure_ascii=False, indent=2)"
   ]
  },
  {
   "cell_type": "code",
   "execution_count": null,
   "metadata": {
    "collapsed": false,
    "jupyter": {
     "outputs_hidden": false
    }
   },
   "outputs": [],
   "source": []
  }
 ],
 "metadata": {
  "kernelspec": {
   "display_name": "Python 3 (ipykernel)",
   "language": "python",
   "name": "python3"
  },
  "language_info": {
   "codemirror_mode": {
    "name": "ipython",
    "version": 3
   },
   "file_extension": ".py",
   "mimetype": "text/x-python",
   "name": "python",
   "nbconvert_exporter": "python",
   "pygments_lexer": "ipython3",
   "version": "3.8.10"
  }
 },
 "nbformat": 4,
 "nbformat_minor": 4
}
